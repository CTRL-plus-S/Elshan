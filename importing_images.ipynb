{
  "nbformat": 4,
  "nbformat_minor": 0,
  "metadata": {
    "colab": {
      "name": "importing images.ipynb",
      "provenance": []
    },
    "kernelspec": {
      "name": "python3",
      "display_name": "Python 3"
    }
  },
  "cells": [
    {
      "cell_type": "markdown",
      "metadata": {
        "id": "XJWzVsPY7OgD",
        "colab_type": "text"
      },
      "source": [
        "Importing libraries"
      ]
    },
    {
      "cell_type": "code",
      "metadata": {
        "id": "qoGqXoAjsQ-j",
        "colab_type": "code",
        "colab": {}
      },
      "source": [
        "import numpy as np\n",
        "import matplotlib.pyplot as plt\n",
        "import os\n",
        "import cv2"
      ],
      "execution_count": 2,
      "outputs": []
    },
    {
      "cell_type": "code",
      "metadata": {
        "id": "RBrIksrd7gMe",
        "colab_type": "code",
        "colab": {}
      },
      "source": [
        "Dataset = \"File path\"\n",
        "Class = ['Clean', 'Dirty']"
      ],
      "execution_count": 4,
      "outputs": []
    },
    {
      "cell_type": "code",
      "metadata": {
        "id": "M_bRuaj27nUj",
        "colab_type": "code",
        "colab": {}
      },
      "source": [
        "training_data = []\n",
        "IMG_SIZE = 300"
      ],
      "execution_count": 5,
      "outputs": []
    },
    {
      "cell_type": "code",
      "metadata": {
        "id": "vnd2d5Qi73Sy",
        "colab_type": "code",
        "colab": {}
      },
      "source": [
        "def create_training_dataset():\n",
        "      for num, img in enumerate(os.listdir(Dataset), start=1):\n",
        "        try:\n",
        "            img_arr = cv2.imread(os.path.join(Dataset, img))\n",
        "            RGB_ver = cv2.cvtColor(img_arr, cv2.COLOR_BGR2RGB)\n",
        "            new_img_arr = cv2.resize(RGB_ver, (IMG_SIZE, IMG_SIZE))\n",
        "            if(num == 1):\n",
        "                plt.imshow(new_img_arr)\n",
        "                plt.show()\n",
        "            if(num <= 35):\n",
        "                # Second parameter is class num 0 for clean\n",
        "                training_data.append([new_img_arr, 0])\n",
        "                print(\"Added img num {} as clean\".format(num))\n",
        "            elif(num >= 35 and num <= 91):\n",
        "                # Second parameter is class num 1 for dirty\n",
        "                training_data.append([new_img_arr, 1])\n",
        "                print(\"Added img num {} as contaminated\".format(num))\n",
        "            else:\n",
        "               \n",
        "                training_data.append([new_img_arr, 0])\n",
        "                print(\"Added img num {} as clean\".format(num))\n",
        "        except Exception as e:\n",
        "            print(e)"
      ],
      "execution_count": 8,
      "outputs": []
    },
    {
      "cell_type": "markdown",
      "metadata": {
        "id": "E39yPIcw81R-",
        "colab_type": "text"
      },
      "source": [
        "Showing every picture label"
      ]
    },
    {
      "cell_type": "code",
      "metadata": {
        "id": "M8_7AnL28V44",
        "colab_type": "code",
        "colab": {}
      },
      "source": [
        "create_training_dataset()\n",
        "print(len(training_data))"
      ],
      "execution_count": null,
      "outputs": []
    },
    {
      "cell_type": "markdown",
      "metadata": {
        "id": "OficZPQP87Gi",
        "colab_type": "text"
      },
      "source": [
        "Show last 10 picture"
      ]
    },
    {
      "cell_type": "code",
      "metadata": {
        "id": "shiVB_rL8r3P",
        "colab_type": "code",
        "colab": {}
      },
      "source": [
        "for k in range(91, 100):\n",
        "    plt.imshow(training_data[k][0])\n",
        "    plt.show()"
      ],
      "execution_count": 10,
      "outputs": []
    },
    {
      "cell_type": "code",
      "metadata": {
        "id": "d5jNik9z9C9W",
        "colab_type": "code",
        "colab": {}
      },
      "source": [
        "#randomize dataset\n",
        "import random\n",
        "random.shuffle(training_data)\n",
        "for x in training_data:\n",
        "    print(x[1])"
      ],
      "execution_count": null,
      "outputs": []
    },
    {
      "cell_type": "code",
      "metadata": {
        "id": "ns_M2Yz_9Ozl",
        "colab_type": "code",
        "colab": {}
      },
      "source": [
        "X_features = [] \n",
        "y_labels = [] \n",
        "for feature, label in training_data:\n",
        "    X_features.append(feature)\n",
        "    y_labels.append(label)\n",
        "    \n",
        "X_features = np.array(X_features).reshape(-1, IMG_SIZE, IMG_SIZE, 3) "
      ],
      "execution_count": null,
      "outputs": []
    },
    {
      "cell_type": "code",
      "metadata": {
        "id": "m6wLueRc9hlC",
        "colab_type": "code",
        "colab": {}
      },
      "source": [
        "import pickle\n",
        "pickle_out = open(\"X_features.pickle\", \"wb\")\n",
        "pickle.dump(X_features, pickle_out)\n",
        "pickle_out.close()\n",
        "\n",
        "pickle_out = open(\"y_labels.pickle\", \"wb\")\n",
        "pickle.dump(y_labels, pickle_out)\n",
        "pickle_out.close("
      ],
      "execution_count": null,
      "outputs": []
    },
    {
      "cell_type": "code",
      "metadata": {
        "id": "gvG95yvB9qIB",
        "colab_type": "code",
        "colab": {}
      },
      "source": [
        "pickle_in = open(\"X_features.pickle\", \"rb\")\n",
        "X_features = pickle.load(pickle_in)"
      ],
      "execution_count": null,
      "outputs": []
    },
    {
      "cell_type": "code",
      "metadata": {
        "id": "na8AHlSm9u4G",
        "colab_type": "code",
        "colab": {}
      },
      "source": [
        ""
      ],
      "execution_count": null,
      "outputs": []
    },
    {
      "cell_type": "code",
      "metadata": {
        "id": "UiGHxGUn8_dY",
        "colab_type": "code",
        "colab": {}
      },
      "source": [
        ""
      ],
      "execution_count": null,
      "outputs": []
    }
  ]
}